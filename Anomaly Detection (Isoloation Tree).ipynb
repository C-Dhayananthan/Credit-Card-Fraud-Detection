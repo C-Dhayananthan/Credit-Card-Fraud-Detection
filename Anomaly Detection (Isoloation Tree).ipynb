{
 "cells": [
  {
   "cell_type": "markdown",
   "id": "639f0380",
   "metadata": {},
   "source": [
    "### Interpretation"
   ]
  },
  {
   "cell_type": "markdown",
   "id": "9fba0206",
   "metadata": {},
   "source": [
    "* If we want to reduce False Negative(actually Fraud but predicted as legit) we should increase the value of contamination in Isolation tree and False Positive value also increases with contamination \n",
    "* If we don't care about False Positive... we only cared about False Negative...means we can increase the contamination values"
   ]
  },
  {
   "cell_type": "code",
   "execution_count": 56,
   "id": "09d47326",
   "metadata": {},
   "outputs": [],
   "source": [
    "import pandas as pd\n",
    "import numpy as np\n",
    "from metrics import clf_metrics\n",
    "import seaborn as sns\n",
    "import matplotlib.pyplot as plt"
   ]
  },
  {
   "cell_type": "code",
   "execution_count": 57,
   "id": "390d6de5",
   "metadata": {},
   "outputs": [],
   "source": [
    "from sklearn.model_selection import train_test_split\n",
    "from sklearn.ensemble import IsolationForest\n",
    "from imblearn.under_sampling import RandomUnderSampler"
   ]
  },
  {
   "cell_type": "code",
   "execution_count": 60,
   "id": "1a3df9dd",
   "metadata": {},
   "outputs": [],
   "source": [
    "cc = pd.read_csv(\"creditcard.csv\")"
   ]
  },
  {
   "cell_type": "code",
   "execution_count": 61,
   "id": "08b803a0",
   "metadata": {},
   "outputs": [],
   "source": [
    "legit = cc[cc['Class'] == 0]\n",
    "fraud = cc[cc['Class'] == 1]"
   ]
  },
  {
   "cell_type": "code",
   "execution_count": 62,
   "id": "d14d951c",
   "metadata": {},
   "outputs": [],
   "source": [
    "X = cc.drop('Class',axis = 1)\n",
    "y = cc['Class']"
   ]
  },
  {
   "cell_type": "code",
   "execution_count": 63,
   "id": "4daa0eb3",
   "metadata": {},
   "outputs": [],
   "source": [
    "X_train,X_test,y_train,y_test = train_test_split(X ,y ,test_size=0.2,random_state=42)"
   ]
  },
  {
   "cell_type": "code",
   "execution_count": 64,
   "id": "3cc2cc72",
   "metadata": {},
   "outputs": [
    {
     "data": {
      "text/plain": [
       "0    227451\n",
       "1       394\n",
       "Name: Class, dtype: int64"
      ]
     },
     "execution_count": 64,
     "metadata": {},
     "output_type": "execute_result"
    }
   ],
   "source": [
    "y_train.value_counts()"
   ]
  },
  {
   "cell_type": "code",
   "execution_count": 65,
   "id": "15c9e5cc",
   "metadata": {
    "scrolled": true
   },
   "outputs": [
    {
     "data": {
      "text/plain": [
       "0    56864\n",
       "1       98\n",
       "Name: Class, dtype: int64"
      ]
     },
     "execution_count": 65,
     "metadata": {},
     "output_type": "execute_result"
    }
   ],
   "source": [
    "y_test.value_counts()"
   ]
  },
  {
   "cell_type": "markdown",
   "id": "c7cf9c6f",
   "metadata": {},
   "source": [
    "#### UnderSampling"
   ]
  },
  {
   "cell_type": "code",
   "execution_count": 66,
   "id": "57d3f0b0",
   "metadata": {},
   "outputs": [],
   "source": [
    "us = RandomUnderSampler(sampling_strategy=0.004925)# undersampling the data with this ratio(394:80,000)"
   ]
  },
  {
   "cell_type": "code",
   "execution_count": 67,
   "id": "a7cd0beb",
   "metadata": {},
   "outputs": [],
   "source": [
    "re_X_train,re_y_train = us.fit_resample(X_train,y_train)"
   ]
  },
  {
   "cell_type": "code",
   "execution_count": 109,
   "id": "c06a431d",
   "metadata": {},
   "outputs": [
    {
     "data": {
      "text/plain": [
       "0    80000\n",
       "1      394\n",
       "Name: Class, dtype: int64"
      ]
     },
     "execution_count": 109,
     "metadata": {},
     "output_type": "execute_result"
    }
   ],
   "source": [
    "re_y_train.value_counts()"
   ]
  },
  {
   "cell_type": "markdown",
   "id": "33d63df5",
   "metadata": {},
   "source": [
    "## Isolation Tree Model"
   ]
  },
  {
   "cell_type": "code",
   "execution_count": 190,
   "id": "101befbd",
   "metadata": {},
   "outputs": [],
   "source": [
    "ift = IsolationForest(contamination=0.0085)"
   ]
  },
  {
   "cell_type": "code",
   "execution_count": 191,
   "id": "9012518c",
   "metadata": {
    "scrolled": true
   },
   "outputs": [
    {
     "data": {
      "text/plain": [
       "IsolationForest(contamination=0.0085)"
      ]
     },
     "execution_count": 191,
     "metadata": {},
     "output_type": "execute_result"
    }
   ],
   "source": [
    "ift.fit(re_X_train,re_y_train)"
   ]
  },
  {
   "cell_type": "code",
   "execution_count": 194,
   "id": "ef375d2a",
   "metadata": {},
   "outputs": [],
   "source": [
    "ift_predicted = ift.predict(X_test)"
   ]
  },
  {
   "cell_type": "code",
   "execution_count": 195,
   "id": "b299a032",
   "metadata": {},
   "outputs": [
    {
     "data": {
      "text/plain": [
       "array([-1,  1,  1, ...,  1,  1,  1])"
      ]
     },
     "execution_count": 195,
     "metadata": {},
     "output_type": "execute_result"
    }
   ],
   "source": [
    "ift_predicted \n",
    "# here 1  is normal values (\"means legit transaction : 0\")\n",
    "# -1 - outliers (\"means fraud : 0\")"
   ]
  },
  {
   "cell_type": "code",
   "execution_count": 192,
   "id": "caed55ac",
   "metadata": {},
   "outputs": [],
   "source": [
    "data_test = X_test.copy()"
   ]
  },
  {
   "cell_type": "code",
   "execution_count": 193,
   "id": "9d04b582",
   "metadata": {},
   "outputs": [],
   "source": [
    "data_test['Class'] = y_test"
   ]
  },
  {
   "cell_type": "code",
   "execution_count": 196,
   "id": "0881ad0f",
   "metadata": {},
   "outputs": [],
   "source": [
    "data_test['Predicted_Class'] = ift_predicted"
   ]
  },
  {
   "cell_type": "code",
   "execution_count": 197,
   "id": "3ae1dc3d",
   "metadata": {},
   "outputs": [],
   "source": [
    "data_test['Predicted_Class'] = data_test['Predicted_Class'].map({-1:1,1:0})"
   ]
  },
  {
   "cell_type": "code",
   "execution_count": 198,
   "id": "f1e3bd3e",
   "metadata": {
    "scrolled": true
   },
   "outputs": [
    {
     "data": {
      "image/png": "[encoded data removed]",
      "text/plain": [
       "<Figure size 864x360 with 2 Axes>"
      ]
     },
     "metadata": {
      "needs_background": "light"
     },
     "output_type": "display_data"
    }
   ],
   "source": [
    "fig,ax = plt.subplots(figsize = (12,5),nrows=1,ncols = 2)\n",
    "\n",
    "ax[0].scatter(x = data_test[data_test['Class'] == 0]['Time'],y = data_test[data_test['Class'] == 0]['Amount']\n",
    "              ,label = 'legit')\n",
    "ax[0].scatter(x = data_test[data_test['Class'] == 1]['Time'],y = data_test[data_test['Class'] == 1]['Amount'],\n",
    "             label = 'Fraud')\n",
    "\n",
    "ax[0].set_xlabel(\"Time\")\n",
    "ax[0].set_ylabel(\"Amount\")\n",
    "\n",
    "ax[0].set_title(\"Actual Test_Data\")\n",
    "ax[0].legend()\n",
    "\n",
    "ax[1].scatter(x = data_test[data_test['Predicted_Class'] == 0]['Time'],\n",
    "              y = data_test[data_test['Predicted_Class'] == 0]['Amount'],label = 'legit')\n",
    "ax[1].scatter(x = data_test[data_test['Predicted_Class'] == 1]['Time'],\n",
    "              y = data_test[data_test['Predicted_Class'] == 1]['Amount'],label = 'Fraud')\n",
    "\n",
    "ax[1].set_xlabel(\"Time\")\n",
    "ax[1].set_ylabel(\"Amount\")\n",
    "\n",
    "ax[1].set_title(\"Predicted Value\")\n",
    "ax[1].legend()\n",
    "\n",
    "plt.tight_layout()"
   ]
  },
  {
   "cell_type": "code",
   "execution_count": 200,
   "id": "eb870481",
   "metadata": {},
   "outputs": [],
   "source": [
    "# here False Positves are high #bcz of outlier detection..."
   ]
  },
  {
   "cell_type": "code",
   "execution_count": 199,
   "id": "34170343",
   "metadata": {
    "scrolled": true
   },
   "outputs": [
    {
     "name": "stdout",
     "output_type": "stream",
     "text": [
      "confusion_matrix :  [[56511   353]\n",
      " [   41    57]]\n",
      "\n",
      "\n",
      "fbeta_score :  0.22440944881889766\n",
      "\n",
      "\n",
      "recall_score :  0.5816326530612245\n",
      "\n",
      "\n",
      "classification_report : \n",
      "              precision    recall  f1-score   support\n",
      "\n",
      "           0       1.00      0.99      1.00     56864\n",
      "           1       0.14      0.58      0.22        98\n",
      "\n",
      "    accuracy                           0.99     56962\n",
      "   macro avg       0.57      0.79      0.61     56962\n",
      "weighted avg       1.00      0.99      1.00     56962\n",
      "\n",
      "\n",
      "\n",
      "accuracy_score :  0.9930831080369369\n",
      "\n",
      "\n"
     ]
    }
   ],
   "source": [
    "clf_metrics(y_test,data_test['Predicted_Class'].values)\n"
   ]
  },
  {
   "cell_type": "code",
   "execution_count": null,
   "id": "6375fe17",
   "metadata": {},
   "outputs": [],
   "source": []
  },
  {
   "cell_type": "code",
   "execution_count": null,
   "id": "576efc90",
   "metadata": {},
   "outputs": [],
   "source": []
  }
 ],
 "metadata": {
  "kernelspec": {
   "display_name": "Python 3",
   "language": "python",
   "name": "python3"
  },
  "language_info": {
   "codemirror_mode": {
    "name": "ipython",
    "version": 3
   },
   "file_extension": ".py",
   "mimetype": "text/x-python",
   "name": "python",
   "nbconvert_exporter": "python",
   "pygments_lexer": "ipython3",
   "version": "3.8.8"
  }
 },
 "nbformat": 4,
 "nbformat_minor": 5
}
