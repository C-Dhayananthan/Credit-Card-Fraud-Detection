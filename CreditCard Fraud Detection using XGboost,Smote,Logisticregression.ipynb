{
 "cells": [
  {
   "cell_type": "markdown",
   "id": "d24986c9",
   "metadata": {},
   "source": [
    "Context\n",
    "\n",
    "It is important that credit card companies are able to recognize fraudulent credit card transactions so that customers are not charged for items that they did not purchase.\n",
    "Content\n",
    "\n",
    "The dataset contains transactions made by credit cards in September 2013 by European cardholders.\n",
    "This dataset presents transactions that occurred in two days, where we have 492 frauds out of 284,807 transactions. The dataset is highly unbalanced, the positive class (frauds) account for 0.172% of all transactions.\n",
    "\n",
    "It contains only numerical input variables which are the result of a PCA transformation. Unfortunately, due to confidentiality issues, we cannot provide the original features and more background information about the data. Features V1, V2, … V28 are the principal components obtained with PCA, the only features which have not been transformed with PCA are 'Time' and 'Amount'. Feature 'Time' contains the seconds elapsed between each transaction and the first transaction in the dataset. The feature 'Amount' is the transaction Amount, this feature can be used for example-dependant cost-sensitive learning. Feature 'Class' is the response variable and it takes value 1 in case of fraud and 0 otherwise.\n",
    "\n",
    "Given the class imbalance ratio, we recommend measuring the accuracy using the Area Under the Precision-Recall Curve (AUPRC). Confusion matrix accuracy is not meaningful for unbalanced classification."
   ]
  },
  {
   "cell_type": "markdown",
   "id": "3f10229a",
   "metadata": {},
   "source": [
    "#### My Result\n",
    "* By doing some alters in data like under sampling ,oversampling(SMOTE) we will get good results with Logistic regression\n",
    "* Xgboost gave good results without altering the data"
   ]
  },
  {
   "cell_type": "code",
   "execution_count": 1,
   "id": "62c365f9",
   "metadata": {},
   "outputs": [],
   "source": [
    "import pandas as pd\n",
    "import matplotlib.pyplot as plt\n",
    "import seaborn as sns\n",
    "import numpy as np\n",
    "from sklearn.preprocessing import StandardScaler\n",
    "from sklearn.model_selection import train_test_split\n",
    "import xgboost as xg\n",
    "from sklearn.linear_model import LogisticRegression\n",
    "from sklearn.ensemble import RandomForestClassifier"
   ]
  },
  {
   "cell_type": "code",
   "execution_count": 2,
   "id": "96d2fabf",
   "metadata": {},
   "outputs": [],
   "source": [
    "from sklearn.metrics import plot_roc_curve\n",
    "from sklearn.metrics import confusion_matrix,fbeta_score,recall_score,classification_report,accuracy_score"
   ]
  },
  {
   "cell_type": "code",
   "execution_count": 3,
   "id": "b1b10d44",
   "metadata": {},
   "outputs": [
    {
     "data": {
      "text/html": [
       "<div>\n",
       "<style scoped>\n",
       "    .dataframe tbody tr th:only-of-type {\n",
       "        vertical-align: middle;\n",
       "    }\n",
       "\n",
       "    .dataframe tbody tr th {\n",
       "        vertical-align: top;\n",
       "    }\n",
       "\n",
       "    .dataframe thead th {\n",
       "        text-align: right;\n",
       "    }\n",
       "</style>\n",
       "<table border=\"1\" class=\"dataframe\">\n",
       "  <thead>\n",
       "    <tr style=\"text-align: right;\">\n",
       "      <th></th>\n",
       "      <th>Time</th>\n",
       "      <th>V1</th>\n",
       "      <th>V2</th>\n",
       "      <th>V3</th>\n",
       "      <th>V4</th>\n",
       "      <th>V5</th>\n",
       "      <th>V6</th>\n",
       "      <th>V7</th>\n",
       "      <th>V8</th>\n",
       "      <th>V9</th>\n",
       "      <th>...</th>\n",
       "      <th>V21</th>\n",
       "      <th>V22</th>\n",
       "      <th>V23</th>\n",
       "      <th>V24</th>\n",
       "      <th>V25</th>\n",
       "      <th>V26</th>\n",
       "      <th>V27</th>\n",
       "      <th>V28</th>\n",
       "      <th>Amount</th>\n",
       "      <th>Class</th>\n",
       "    </tr>\n",
       "  </thead>\n",
       "  <tbody>\n",
       "    <tr>\n",
       "      <th>0</th>\n",
       "      <td>0.0</td>\n",
       "      <td>-1.359807</td>\n",
       "      <td>-0.072781</td>\n",
       "      <td>2.536347</td>\n",
       "      <td>1.378155</td>\n",
       "      <td>-0.338321</td>\n",
       "      <td>0.462388</td>\n",
       "      <td>0.239599</td>\n",
       "      <td>0.098698</td>\n",
       "      <td>0.363787</td>\n",
       "      <td>...</td>\n",
       "      <td>-0.018307</td>\n",
       "      <td>0.277838</td>\n",
       "      <td>-0.110474</td>\n",
       "      <td>0.066928</td>\n",
       "      <td>0.128539</td>\n",
       "      <td>-0.189115</td>\n",
       "      <td>0.133558</td>\n",
       "      <td>-0.021053</td>\n",
       "      <td>149.62</td>\n",
       "      <td>0</td>\n",
       "    </tr>\n",
       "    <tr>\n",
       "      <th>1</th>\n",
       "      <td>0.0</td>\n",
       "      <td>1.191857</td>\n",
       "      <td>0.266151</td>\n",
       "      <td>0.166480</td>\n",
       "      <td>0.448154</td>\n",
       "      <td>0.060018</td>\n",
       "      <td>-0.082361</td>\n",
       "      <td>-0.078803</td>\n",
       "      <td>0.085102</td>\n",
       "      <td>-0.255425</td>\n",
       "      <td>...</td>\n",
       "      <td>-0.225775</td>\n",
       "      <td>-0.638672</td>\n",
       "      <td>0.101288</td>\n",
       "      <td>-0.339846</td>\n",
       "      <td>0.167170</td>\n",
       "      <td>0.125895</td>\n",
       "      <td>-0.008983</td>\n",
       "      <td>0.014724</td>\n",
       "      <td>2.69</td>\n",
       "      <td>0</td>\n",
       "    </tr>\n",
       "    <tr>\n",
       "      <th>2</th>\n",
       "      <td>1.0</td>\n",
       "      <td>-1.358354</td>\n",
       "      <td>-1.340163</td>\n",
       "      <td>1.773209</td>\n",
       "      <td>0.379780</td>\n",
       "      <td>-0.503198</td>\n",
       "      <td>1.800499</td>\n",
       "      <td>0.791461</td>\n",
       "      <td>0.247676</td>\n",
       "      <td>-1.514654</td>\n",
       "      <td>...</td>\n",
       "      <td>0.247998</td>\n",
       "      <td>0.771679</td>\n",
       "      <td>0.909412</td>\n",
       "      <td>-0.689281</td>\n",
       "      <td>-0.327642</td>\n",
       "      <td>-0.139097</td>\n",
       "      <td>-0.055353</td>\n",
       "      <td>-0.059752</td>\n",
       "      <td>378.66</td>\n",
       "      <td>0</td>\n",
       "    </tr>\n",
       "    <tr>\n",
       "      <th>3</th>\n",
       "      <td>1.0</td>\n",
       "      <td>-0.966272</td>\n",
       "      <td>-0.185226</td>\n",
       "      <td>1.792993</td>\n",
       "      <td>-0.863291</td>\n",
       "      <td>-0.010309</td>\n",
       "      <td>1.247203</td>\n",
       "      <td>0.237609</td>\n",
       "      <td>0.377436</td>\n",
       "      <td>-1.387024</td>\n",
       "      <td>...</td>\n",
       "      <td>-0.108300</td>\n",
       "      <td>0.005274</td>\n",
       "      <td>-0.190321</td>\n",
       "      <td>-1.175575</td>\n",
       "      <td>0.647376</td>\n",
       "      <td>-0.221929</td>\n",
       "      <td>0.062723</td>\n",
       "      <td>0.061458</td>\n",
       "      <td>123.50</td>\n",
       "      <td>0</td>\n",
       "    </tr>\n",
       "    <tr>\n",
       "      <th>4</th>\n",
       "      <td>2.0</td>\n",
       "      <td>-1.158233</td>\n",
       "      <td>0.877737</td>\n",
       "      <td>1.548718</td>\n",
       "      <td>0.403034</td>\n",
       "      <td>-0.407193</td>\n",
       "      <td>0.095921</td>\n",
       "      <td>0.592941</td>\n",
       "      <td>-0.270533</td>\n",
       "      <td>0.817739</td>\n",
       "      <td>...</td>\n",
       "      <td>-0.009431</td>\n",
       "      <td>0.798278</td>\n",
       "      <td>-0.137458</td>\n",
       "      <td>0.141267</td>\n",
       "      <td>-0.206010</td>\n",
       "      <td>0.502292</td>\n",
       "      <td>0.219422</td>\n",
       "      <td>0.215153</td>\n",
       "      <td>69.99</td>\n",
       "      <td>0</td>\n",
       "    </tr>\n",
       "  </tbody>\n",
       "</table>\n",
       "<p>5 rows × 31 columns</p>\n",
       "</div>"
      ],
      "text/plain": [
       "   Time        V1        V2        V3        V4        V5        V6        V7  \\\n",
       "0   0.0 -1.359807 -0.072781  2.536347  1.378155 -0.338321  0.462388  0.239599   \n",
       "1   0.0  1.191857  0.266151  0.166480  0.448154  0.060018 -0.082361 -0.078803   \n",
       "2   1.0 -1.358354 -1.340163  1.773209  0.379780 -0.503198  1.800499  0.791461   \n",
       "3   1.0 -0.966272 -0.185226  1.792993 -0.863291 -0.010309  1.247203  0.237609   \n",
       "4   2.0 -1.158233  0.877737  1.548718  0.403034 -0.407193  0.095921  0.592941   \n",
       "\n",
       "         V8        V9  ...       V21       V22       V23       V24       V25  \\\n",
       "0  0.098698  0.363787  ... -0.018307  0.277838 -0.110474  0.066928  0.128539   \n",
       "1  0.085102 -0.255425  ... -0.225775 -0.638672  0.101288 -0.339846  0.167170   \n",
       "2  0.247676 -1.514654  ...  0.247998  0.771679  0.909412 -0.689281 -0.327642   \n",
       "3  0.377436 -1.387024  ... -0.108300  0.005274 -0.190321 -1.175575  0.647376   \n",
       "4 -0.270533  0.817739  ... -0.009431  0.798278 -0.137458  0.141267 -0.206010   \n",
       "\n",
       "        V26       V27       V28  Amount  Class  \n",
       "0 -0.189115  0.133558 -0.021053  149.62      0  \n",
       "1  0.125895 -0.008983  0.014724    2.69      0  \n",
       "2 -0.139097 -0.055353 -0.059752  378.66      0  \n",
       "3 -0.221929  0.062723  0.061458  123.50      0  \n",
       "4  0.502292  0.219422  0.215153   69.99      0  \n",
       "\n",
       "[5 rows x 31 columns]"
      ]
     },
     "execution_count": 3,
     "metadata": {},
     "output_type": "execute_result"
    }
   ],
   "source": [
    "fraud = pd.read_csv(\"creditcard.csv\")# named data as fraud :)\n",
    "fraud.head()"
   ]
  },
  {
   "cell_type": "code",
   "execution_count": 4,
   "id": "5f47ab28",
   "metadata": {
    "scrolled": true
   },
   "outputs": [
    {
     "name": "stdout",
     "output_type": "stream",
     "text": [
      "<class 'pandas.core.frame.DataFrame'>\n",
      "RangeIndex: 284807 entries, 0 to 284806\n",
      "Data columns (total 31 columns):\n",
      " #   Column  Non-Null Count   Dtype  \n",
      "---  ------  --------------   -----  \n",
      " 0   Time    284807 non-null  float64\n",
      " 1   V1      284807 non-null  float64\n",
      " 2   V2      284807 non-null  float64\n",
      " 3   V3      284807 non-null  float64\n",
      " 4   V4      284807 non-null  float64\n",
      " 5   V5      284807 non-null  float64\n",
      " 6   V6      284807 non-null  float64\n",
      " 7   V7      284807 non-null  float64\n",
      " 8   V8      284807 non-null  float64\n",
      " 9   V9      284807 non-null  float64\n",
      " 10  V10     284807 non-null  float64\n",
      " 11  V11     284807 non-null  float64\n",
      " 12  V12     284807 non-null  float64\n",
      " 13  V13     284807 non-null  float64\n",
      " 14  V14     284807 non-null  float64\n",
      " 15  V15     284807 non-null  float64\n",
      " 16  V16     284807 non-null  float64\n",
      " 17  V17     284807 non-null  float64\n",
      " 18  V18     284807 non-null  float64\n",
      " 19  V19     284807 non-null  float64\n",
      " 20  V20     284807 non-null  float64\n",
      " 21  V21     284807 non-null  float64\n",
      " 22  V22     284807 non-null  float64\n",
      " 23  V23     284807 non-null  float64\n",
      " 24  V24     284807 non-null  float64\n",
      " 25  V25     284807 non-null  float64\n",
      " 26  V26     284807 non-null  float64\n",
      " 27  V27     284807 non-null  float64\n",
      " 28  V28     284807 non-null  float64\n",
      " 29  Amount  284807 non-null  float64\n",
      " 30  Class   284807 non-null  int64  \n",
      "dtypes: float64(30), int64(1)\n",
      "memory usage: 67.4 MB\n"
     ]
    }
   ],
   "source": [
    "fraud.info()"
   ]
  },
  {
   "cell_type": "code",
   "execution_count": 5,
   "id": "27868bde",
   "metadata": {
    "scrolled": true
   },
   "outputs": [
    {
     "data": {
      "text/plain": [
       "Time      0\n",
       "V1        0\n",
       "V2        0\n",
       "V3        0\n",
       "V4        0\n",
       "V5        0\n",
       "V6        0\n",
       "V7        0\n",
       "V8        0\n",
       "V9        0\n",
       "V10       0\n",
       "V11       0\n",
       "V12       0\n",
       "V13       0\n",
       "V14       0\n",
       "V15       0\n",
       "V16       0\n",
       "V17       0\n",
       "V18       0\n",
       "V19       0\n",
       "V20       0\n",
       "V21       0\n",
       "V22       0\n",
       "V23       0\n",
       "V24       0\n",
       "V25       0\n",
       "V26       0\n",
       "V27       0\n",
       "V28       0\n",
       "Amount    0\n",
       "Class     0\n",
       "dtype: int64"
      ]
     },
     "execution_count": 5,
     "metadata": {},
     "output_type": "execute_result"
    }
   ],
   "source": [
    "fraud.isnull().sum()"
   ]
  },
  {
   "cell_type": "markdown",
   "id": "2cb5054b",
   "metadata": {},
   "source": [
    "## EDA"
   ]
  },
  {
   "cell_type": "code",
   "execution_count": 6,
   "id": "d8d135a5",
   "metadata": {
    "scrolled": false
   },
   "outputs": [
    {
     "name": "stderr",
     "output_type": "stream",
     "text": [
      "C:\\PYTHON\\anaconda3\\lib\\site-packages\\seaborn\\_decorators.py:36: FutureWarning: Pass the following variable as a keyword arg: x. From version 0.12, the only valid positional argument will be `data`, and passing other arguments without an explicit keyword will result in an error or misinterpretation.\n",
      "  warnings.warn(\n"
     ]
    },
    {
     "data": {
      "text/plain": [
       "<AxesSubplot:xlabel='Class', ylabel='count'>"
      ]
     },
     "execution_count": 6,
     "metadata": {},
     "output_type": "execute_result"
    },
    {
     "data": {
      "image/png": "[encoded data removed]",
      "text/plain": [
       "<Figure size 432x288 with 1 Axes>"
      ]
     },
     "metadata": {
      "needs_background": "light"
     },
     "output_type": "display_data"
    }
   ],
   "source": [
    "sns.countplot(fraud['Class'].map({0:'OK',1:'FRAUD'}))# imablanced data "
   ]
  },
  {
   "cell_type": "code",
   "execution_count": 7,
   "id": "e72fc470",
   "metadata": {},
   "outputs": [
    {
     "name": "stderr",
     "output_type": "stream",
     "text": [
      "C:\\PYTHON\\anaconda3\\lib\\site-packages\\seaborn\\distributions.py:2557: FutureWarning: `distplot` is a deprecated function and will be removed in a future version. Please adapt your code to use either `displot` (a figure-level function with similar flexibility) or `histplot` (an axes-level function for histograms).\n",
      "  warnings.warn(msg, FutureWarning)\n"
     ]
    },
    {
     "data": {
      "image/png": "[encoded data removed]",
      "text/plain": [
       "<Figure size 720x360 with 1 Axes>"
      ]
     },
     "metadata": {
      "needs_background": "light"
     },
     "output_type": "display_data"
    }
   ],
   "source": [
    "plt.figure(figsize=(10,5)) # time take to make transaction\n",
    "sns.distplot(fraud['Time'])\n",
    "plt.show()"
   ]
  },
  {
   "cell_type": "code",
   "execution_count": 8,
   "id": "2804896a",
   "metadata": {},
   "outputs": [
    {
     "data": {
      "image/png": "[encoded data removed]",
      "text/plain": [
       "<Figure size 864x360 with 1 Axes>"
      ]
     },
     "metadata": {
      "needs_background": "light"
     },
     "output_type": "display_data"
    }
   ],
   "source": [
    "plt.figure(figsize=(12,5))\n",
    "plt.scatter(x = fraud[fraud['Class'] == 1]['Time'],y = fraud[fraud['Class'] == 1]['Amount'],marker = '*',color = 'r')\n",
    "plt.title(\"Time vs Amount in Fraud Transaction\")\n",
    "plt.xlabel(\"TIME\")\n",
    "plt.ylabel(\"AMOUNT\")\n",
    "plt.show()"
   ]
  },
  {
   "cell_type": "code",
   "execution_count": 9,
   "id": "1a216dd1",
   "metadata": {
    "scrolled": true
   },
   "outputs": [
    {
     "data": {
      "image/png": "[encoded data removed]",
      "text/plain": [
       "<Figure size 864x360 with 1 Axes>"
      ]
     },
     "metadata": {
      "needs_background": "light"
     },
     "output_type": "display_data"
    }
   ],
   "source": [
    "plt.figure(figsize=(12,5))\n",
    "plt.scatter(x = fraud[fraud['Class'] == 0]['Time'],y = fraud[fraud['Class'] == 0]['Amount'],marker = '+',color = 'g')\n",
    "plt.title(\"Time vs Amount in Legit Transaction\")\n",
    "plt.xlabel(\"TIME\")\n",
    "plt.ylabel(\"AMOUNT\")\n",
    "plt.show()"
   ]
  },
  {
   "cell_type": "code",
   "execution_count": 10,
   "id": "087dcfb3",
   "metadata": {
    "scrolled": false
   },
   "outputs": [
    {
     "data": {
      "image/png": "[encoded data removed]",
      "text/plain": [
       "<Figure size 1080x288 with 2 Axes>"
      ]
     },
     "metadata": {
      "needs_background": "light"
     },
     "output_type": "display_data"
    }
   ],
   "source": [
    "fig,ax = plt.subplots(nrows = 1,ncols=2,figsize = (15,4))\n",
    "\n",
    "ax[0].hist(x = fraud[fraud['Class'] == 0]['Amount'],bins = 50)\n",
    "ax[1].hist(x = fraud[fraud['Class'] == 1]['Amount'],bins = 50)\n",
    "\n",
    "ax[0].set_title(\"Legit Transaction\")\n",
    "ax[1].set_title('Fraud Transaction')\n",
    "\n",
    "ax[0].set_xlabel(\"Amount\")\n",
    "ax[0].set_ylabel(\"No. of Transaction\")\n",
    "\n",
    "ax[1].set_xlabel(\"Amount\")\n",
    "ax[1].set_ylabel(\"No. of Transaction\")\n",
    "\n",
    "plt.tight_layout()"
   ]
  },
  {
   "cell_type": "markdown",
   "id": "28cb2221",
   "metadata": {},
   "source": [
    "## SPLITING OF DATA"
   ]
  },
  {
   "cell_type": "code",
   "execution_count": 11,
   "id": "d0ce830d",
   "metadata": {},
   "outputs": [],
   "source": [
    "X = fraud[fraud.columns[:-1]]\n",
    "y = fraud['Class']"
   ]
  },
  {
   "cell_type": "code",
   "execution_count": 12,
   "id": "1e49d9f4",
   "metadata": {},
   "outputs": [],
   "source": [
    "X_train, X_test, y_train, y_test = train_test_split(X, y, test_size=0.2, random_state=42)"
   ]
  },
  {
   "cell_type": "code",
   "execution_count": 13,
   "id": "d2138e46",
   "metadata": {},
   "outputs": [
    {
     "data": {
      "text/plain": [
       "0    56864\n",
       "1       98\n",
       "Name: Class, dtype: int64"
      ]
     },
     "execution_count": 13,
     "metadata": {},
     "output_type": "execute_result"
    }
   ],
   "source": [
    "y_test.value_counts()"
   ]
  },
  {
   "cell_type": "code",
   "execution_count": 14,
   "id": "ce184065",
   "metadata": {},
   "outputs": [
    {
     "data": {
      "text/plain": [
       "0    227451\n",
       "1       394\n",
       "Name: Class, dtype: int64"
      ]
     },
     "execution_count": 14,
     "metadata": {},
     "output_type": "execute_result"
    }
   ],
   "source": [
    "y_train.value_counts()"
   ]
  },
  {
   "cell_type": "code",
   "execution_count": 15,
   "id": "04d231b4",
   "metadata": {},
   "outputs": [],
   "source": [
    "std = StandardScaler()"
   ]
  },
  {
   "cell_type": "code",
   "execution_count": 16,
   "id": "a6548ab0",
   "metadata": {},
   "outputs": [],
   "source": [
    "#std.fit(X_train)"
   ]
  },
  {
   "cell_type": "code",
   "execution_count": 17,
   "id": "9e750e23",
   "metadata": {},
   "outputs": [],
   "source": [
    "#train = std.transform(X_train)"
   ]
  },
  {
   "cell_type": "markdown",
   "id": "ba15695b",
   "metadata": {},
   "source": [
    "### MODEL"
   ]
  },
  {
   "cell_type": "markdown",
   "id": "d2808b1e",
   "metadata": {},
   "source": [
    "#### Computing Different Models"
   ]
  },
  {
   "cell_type": "code",
   "execution_count": 18,
   "id": "b235b506",
   "metadata": {},
   "outputs": [],
   "source": [
    "import models"
   ]
  },
  {
   "cell_type": "code",
   "execution_count": 19,
   "id": "7ec08bac",
   "metadata": {
    "scrolled": false
   },
   "outputs": [
    {
     "name": "stdout",
     "output_type": "stream",
     "text": [
      "[18:53:24] WARNING: ..\\src\\learner.cc:1061: Starting in XGBoost 1.3.0, the default evaluation metric used with the objective 'binary:logistic' was changed from 'error' to 'logloss'. Explicitly set eval_metric if you'd like to restore the old behavior.\n",
      "### -------------------- Predicted by RandomForestClassifier for test dataset---------------- ##\n",
      "              precision    recall  f1-score   support\n",
      "\n",
      "           0       1.00      1.00      1.00     85307\n",
      "           1       0.94      0.82      0.87       136\n",
      "\n",
      "    accuracy                           1.00     85443\n",
      "   macro avg       0.97      0.91      0.94     85443\n",
      "weighted avg       1.00      1.00      1.00     85443\n",
      "\n",
      "fbeta_score:  0.827123695976155\n",
      "accuracy_score:  0.9996254813150287\n",
      "\n",
      "\n",
      "### -------------------- Predicted by AdaBoostClassifier for test dataset---------------- ##\n",
      "              precision    recall  f1-score   support\n",
      "\n",
      "           0       1.00      1.00      1.00     85307\n",
      "           1       0.82      0.74      0.78       136\n",
      "\n",
      "    accuracy                           1.00     85443\n",
      "   macro avg       0.91      0.87      0.89     85443\n",
      "weighted avg       1.00      1.00      1.00     85443\n",
      "\n",
      "fbeta_score:  0.7498144023756496\n",
      "accuracy_score:  0.9993328885923949\n",
      "\n",
      "\n",
      "### -------------------- Predicted by xgboost for test dataset---------------- ##\n",
      "              precision    recall  f1-score   support\n",
      "\n",
      "           0       1.00      1.00      1.00     85307\n",
      "           1       0.95      0.83      0.89       136\n",
      "\n",
      "    accuracy                           1.00     85443\n",
      "   macro avg       0.97      0.92      0.94     85443\n",
      "weighted avg       1.00      1.00      1.00     85443\n",
      "\n",
      "fbeta_score:  0.8413998510796725\n",
      "accuracy_score:  0.9996605924417448\n",
      "\n",
      "\n",
      "### -------------------- Predicted by LogisticRegression for test dataset---------------- ##\n",
      "              precision    recall  f1-score   support\n",
      "\n",
      "           0       1.00      1.00      1.00     85307\n",
      "           1       0.87      0.63      0.73       136\n",
      "\n",
      "    accuracy                           1.00     85443\n",
      "   macro avg       0.93      0.82      0.87     85443\n",
      "weighted avg       1.00      1.00      1.00     85443\n",
      "\n",
      "fbeta_score:  0.6500377928949357\n",
      "accuracy_score:  0.9992626663389628\n",
      "\n",
      "\n"
     ]
    }
   ],
   "source": [
    "models.clf_models(X,y,f_beta=3) "
   ]
  },
  {
   "cell_type": "markdown",
   "id": "c30dde3e",
   "metadata": {},
   "source": [
    "### XG BOOST and RandomForest gives BETTER RESULT for this imbalanced DATA"
   ]
  },
  {
   "cell_type": "markdown",
   "id": "87125a82",
   "metadata": {},
   "source": [
    "## XGBOOST"
   ]
  },
  {
   "cell_type": "code",
   "execution_count": 20,
   "id": "3ce8d63f",
   "metadata": {},
   "outputs": [],
   "source": [
    "xgb = xg.XGBClassifier(use_label_encoder=False)"
   ]
  },
  {
   "cell_type": "code",
   "execution_count": 21,
   "id": "0cea60d2",
   "metadata": {},
   "outputs": [
    {
     "name": "stdout",
     "output_type": "stream",
     "text": [
      "[18:54:28] WARNING: ..\\src\\learner.cc:1061: Starting in XGBoost 1.3.0, the default evaluation metric used with the objective 'binary:logistic' was changed from 'error' to 'logloss'. Explicitly set eval_metric if you'd like to restore the old behavior.\n"
     ]
    },
    {
     "data": {
      "text/plain": [
       "XGBClassifier(base_score=0.5, booster='gbtree', colsample_bylevel=1,\n",
       "              colsample_bynode=1, colsample_bytree=1, gamma=0, gpu_id=-1,\n",
       "              importance_type='gain', interaction_constraints='',\n",
       "              learning_rate=0.300000012, max_delta_step=0, max_depth=6,\n",
       "              min_child_weight=1, missing=nan, monotone_constraints='()',\n",
       "              n_estimators=100, n_jobs=8, num_parallel_tree=1, random_state=0,\n",
       "              reg_alpha=0, reg_lambda=1, scale_pos_weight=1, subsample=1,\n",
       "              tree_method='exact', use_label_encoder=False,\n",
       "              validate_parameters=1, verbosity=None)"
      ]
     },
     "execution_count": 21,
     "metadata": {},
     "output_type": "execute_result"
    }
   ],
   "source": [
    "xgb.fit(X_train,y_train)"
   ]
  },
  {
   "cell_type": "code",
   "execution_count": 22,
   "id": "5dbe368a",
   "metadata": {},
   "outputs": [],
   "source": [
    "predicted = xgb.predict(X_test)"
   ]
  },
  {
   "cell_type": "code",
   "execution_count": 23,
   "id": "57a72d73",
   "metadata": {},
   "outputs": [
    {
     "name": "stdout",
     "output_type": "stream",
     "text": [
      "              precision    recall  f1-score   support\n",
      "\n",
      "           0       1.00      1.00      1.00     56864\n",
      "           1       0.99      0.80      0.88        98\n",
      "\n",
      "    accuracy                           1.00     56962\n",
      "   macro avg       0.99      0.90      0.94     56962\n",
      "weighted avg       1.00      1.00      1.00     56962\n",
      "\n"
     ]
    }
   ],
   "source": [
    "print(classification_report(y_test,predicted))"
   ]
  },
  {
   "cell_type": "code",
   "execution_count": 24,
   "id": "ff2eff1d",
   "metadata": {},
   "outputs": [
    {
     "data": {
      "text/plain": [
       "array([[56863,     1],\n",
       "       [   20,    78]], dtype=int64)"
      ]
     },
     "execution_count": 24,
     "metadata": {},
     "output_type": "execute_result"
    }
   ],
   "source": [
    "confusion_matrix(y_test,predicted)"
   ]
  },
  {
   "cell_type": "code",
   "execution_count": 25,
   "id": "d76c8e01",
   "metadata": {},
   "outputs": [
    {
     "data": {
      "text/plain": [
       "0.8116545265348595"
      ]
     },
     "execution_count": 25,
     "metadata": {},
     "output_type": "execute_result"
    }
   ],
   "source": [
    "fbeta_score(y_test,predicted,beta=3)"
   ]
  },
  {
   "cell_type": "code",
   "execution_count": 26,
   "id": "0b8b5833",
   "metadata": {
    "scrolled": true
   },
   "outputs": [
    {
     "data": {
      "text/plain": [
       "<sklearn.metrics._plot.roc_curve.RocCurveDisplay at 0x17e57d78c70>"
      ]
     },
     "execution_count": 26,
     "metadata": {},
     "output_type": "execute_result"
    },
    {
     "data": {
      "image/png": "[encoded data removed]",
      "text/plain": [
       "<Figure size 432x288 with 1 Axes>"
      ]
     },
     "metadata": {
      "needs_background": "light"
     },
     "output_type": "display_data"
    }
   ],
   "source": [
    "plot_roc_curve(xgb, X_test, y_test)"
   ]
  },
  {
   "cell_type": "code",
   "execution_count": 27,
   "id": "9109d539",
   "metadata": {},
   "outputs": [],
   "source": [
    "plot_test = X_test.copy()"
   ]
  },
  {
   "cell_type": "code",
   "execution_count": 28,
   "id": "32c3c614",
   "metadata": {},
   "outputs": [],
   "source": [
    "plot_test['Class'] = y_test"
   ]
  },
  {
   "cell_type": "code",
   "execution_count": 29,
   "id": "f27fb6c6",
   "metadata": {},
   "outputs": [],
   "source": [
    "plot_test['Predicted_Class'] = predicted"
   ]
  },
  {
   "cell_type": "code",
   "execution_count": 30,
   "id": "ff1faa8c",
   "metadata": {},
   "outputs": [
    {
     "data": {
      "image/png": "[encoded data removed]",
      "text/plain": [
       "<Figure size 1080x360 with 2 Axes>"
      ]
     },
     "metadata": {
      "needs_background": "light"
     },
     "output_type": "display_data"
    }
   ],
   "source": [
    "fig,ax = plt.subplots(figsize = (15,5),nrows=1,ncols = 2)\n",
    "\n",
    "ax[0].scatter(x = plot_test[plot_test['Class'] == 0]['Time'],y = plot_test[plot_test['Class'] == 0]['Amount']\n",
    "              ,label = 'legit')\n",
    "ax[0].scatter(x = plot_test[plot_test['Class'] == 1]['Time'],y = plot_test[plot_test['Class'] == 1]['Amount'],\n",
    "             label = 'Fraud')\n",
    "\n",
    "ax[0].set_xlabel(\"Time\")\n",
    "ax[0].set_ylabel(\"Amount\")\n",
    "\n",
    "ax[0].set_title(\"Actual Test_Data\")\n",
    "ax[0].legend()\n",
    "\n",
    "ax[1].scatter(x = plot_test[plot_test['Predicted_Class'] == 0]['Time'],\n",
    "              y = plot_test[plot_test['Predicted_Class'] == 0]['Amount'],label = 'legit')\n",
    "ax[1].scatter(x = plot_test[plot_test['Predicted_Class'] == 1]['Time'],\n",
    "              y = plot_test[plot_test['Predicted_Class'] == 1]['Amount'],label = 'Fraud')\n",
    "\n",
    "ax[1].set_xlabel(\"Time\")\n",
    "ax[1].set_ylabel(\"Amount\")\n",
    "\n",
    "ax[1].set_title(\"Predicted Values\")\n",
    "ax[1].legend()\n",
    "\n",
    "plt.suptitle(\"XGBOOST_Prediction\", fontsize=14)\n",
    "plt.tight_layout()"
   ]
  },
  {
   "cell_type": "markdown",
   "id": "0792694a",
   "metadata": {},
   "source": [
    "## Random Forest"
   ]
  },
  {
   "cell_type": "code",
   "execution_count": 31,
   "id": "57cda6db",
   "metadata": {},
   "outputs": [],
   "source": [
    "rf = RandomForestClassifier(n_estimators=100)"
   ]
  },
  {
   "cell_type": "code",
   "execution_count": 32,
   "id": "67681799",
   "metadata": {},
   "outputs": [
    {
     "data": {
      "text/plain": [
       "RandomForestClassifier()"
      ]
     },
     "execution_count": 32,
     "metadata": {},
     "output_type": "execute_result"
    }
   ],
   "source": [
    "rf.fit(std.fit_transform(X_train),y_train)"
   ]
  },
  {
   "cell_type": "code",
   "execution_count": 33,
   "id": "82789679",
   "metadata": {},
   "outputs": [],
   "source": [
    "rf_predicted = rf.predict(std.fit_transform(X_test))"
   ]
  },
  {
   "cell_type": "code",
   "execution_count": 34,
   "id": "c46152ff",
   "metadata": {
    "scrolled": true
   },
   "outputs": [
    {
     "name": "stdout",
     "output_type": "stream",
     "text": [
      "              precision    recall  f1-score   support\n",
      "\n",
      "           0       1.00      1.00      1.00     56864\n",
      "           1       0.97      0.77      0.86        98\n",
      "\n",
      "    accuracy                           1.00     56962\n",
      "   macro avg       0.99      0.88      0.93     56962\n",
      "weighted avg       1.00      1.00      1.00     56962\n",
      "\n"
     ]
    }
   ],
   "source": [
    "print(classification_report(y_test,rf_predicted))"
   ]
  },
  {
   "cell_type": "code",
   "execution_count": 35,
   "id": "e81f279e",
   "metadata": {},
   "outputs": [],
   "source": [
    "plot_test = X_test.copy()"
   ]
  },
  {
   "cell_type": "code",
   "execution_count": 36,
   "id": "299e19de",
   "metadata": {},
   "outputs": [],
   "source": [
    "plot_test['Class'] = y_test"
   ]
  },
  {
   "cell_type": "code",
   "execution_count": 37,
   "id": "73655035",
   "metadata": {},
   "outputs": [],
   "source": [
    "plot_test['Predicted_Class_rf'] = rf_predicted"
   ]
  },
  {
   "cell_type": "code",
   "execution_count": 38,
   "id": "2d133214",
   "metadata": {},
   "outputs": [
    {
     "data": {
      "image/png": "[encoded data removed]",
      "text/plain": [
       "<Figure size 1080x360 with 2 Axes>"
      ]
     },
     "metadata": {
      "needs_background": "light"
     },
     "output_type": "display_data"
    }
   ],
   "source": [
    "fig,ax = plt.subplots(figsize = (15,5),nrows=1,ncols = 2)\n",
    "\n",
    "ax[0].scatter(x = plot_test[plot_test['Class'] == 0]['Time'],y = plot_test[plot_test['Class'] == 0]['Amount']\n",
    "              ,label = 'legit',)\n",
    "ax[0].scatter(x = plot_test[plot_test['Class'] == 1]['Time'],y = plot_test[plot_test['Class'] == 1]['Amount'],\n",
    "             label = 'Fraud')\n",
    "\n",
    "ax[0].set_xlabel(\"Time\")\n",
    "ax[0].set_ylabel(\"Amount\")\n",
    "\n",
    "ax[0].set_title(\"Actual Test_Data\")\n",
    "ax[0].legend()\n",
    "\n",
    "ax[1].scatter(x = plot_test[plot_test['Predicted_Class_rf'] == 0]['Time'],\n",
    "              y = plot_test[plot_test['Predicted_Class_rf'] == 0]['Amount'],label = 'legit')\n",
    "ax[1].scatter(x = plot_test[plot_test['Predicted_Class_rf'] == 1]['Time'],\n",
    "              y = plot_test[plot_test['Predicted_Class_rf'] == 1]['Amount'],label = 'Fraud')\n",
    "\n",
    "ax[1].set_xlabel(\"Time\")\n",
    "ax[1].set_ylabel(\"Amount\")\n",
    "\n",
    "ax[1].set_title(\"Predicted Values\")\n",
    "ax[1].legend()\n",
    "\n",
    "plt.suptitle(\"RANDOM FOREST_Prediction\", fontsize=14)\n",
    "plt.tight_layout()"
   ]
  },
  {
   "cell_type": "code",
   "execution_count": null,
   "id": "fb1f7f97",
   "metadata": {},
   "outputs": [],
   "source": []
  },
  {
   "cell_type": "markdown",
   "id": "c4b0ad91",
   "metadata": {},
   "source": [
    "## LOGISTIC REGRESSION"
   ]
  },
  {
   "cell_type": "markdown",
   "id": "53b88ef0",
   "metadata": {},
   "source": [
    "1. Log_reg is not good for imabalanced dataset\n",
    "2. We can make them good..... by altering the data\n",
    "3. there are some ways to imporve perfomance in log_reg\n",
    "    * Changing Class Weights\n",
    "    * Resampling"
   ]
  },
  {
   "cell_type": "code",
   "execution_count": 93,
   "id": "ca0517ab",
   "metadata": {},
   "outputs": [],
   "source": [
    "clf = LogisticRegression()"
   ]
  },
  {
   "cell_type": "code",
   "execution_count": 94,
   "id": "c167ab4a",
   "metadata": {},
   "outputs": [
    {
     "data": {
      "text/plain": [
       "LogisticRegression()"
      ]
     },
     "execution_count": 94,
     "metadata": {},
     "output_type": "execute_result"
    }
   ],
   "source": [
    "clf.fit(std.fit_transform(X_train),y_train)"
   ]
  },
  {
   "cell_type": "code",
   "execution_count": 41,
   "id": "a3db862d",
   "metadata": {},
   "outputs": [],
   "source": [
    "clf_predicted = clf.predict(std.fit_transform(X_test))"
   ]
  },
  {
   "cell_type": "code",
   "execution_count": 42,
   "id": "00d3073b",
   "metadata": {
    "scrolled": true
   },
   "outputs": [
    {
     "name": "stdout",
     "output_type": "stream",
     "text": [
      "              precision    recall  f1-score   support\n",
      "\n",
      "           0       1.00      1.00      1.00     56864\n",
      "           1       0.86      0.58      0.70        98\n",
      "\n",
      "    accuracy                           1.00     56962\n",
      "   macro avg       0.93      0.79      0.85     56962\n",
      "weighted avg       1.00      1.00      1.00     56962\n",
      "\n"
     ]
    }
   ],
   "source": [
    "print(classification_report(y_test,clf_predicted))"
   ]
  },
  {
   "cell_type": "code",
   "execution_count": 43,
   "id": "59cc9139",
   "metadata": {
    "scrolled": true
   },
   "outputs": [
    {
     "data": {
      "text/plain": [
       "array([[56855,     9],\n",
       "       [   41,    57]], dtype=int64)"
      ]
     },
     "execution_count": 43,
     "metadata": {},
     "output_type": "execute_result"
    }
   ],
   "source": [
    "confusion_matrix(y_test,clf_predicted)"
   ]
  },
  {
   "cell_type": "markdown",
   "id": "433cdcaa",
   "metadata": {},
   "source": [
    "## Changing Weights of Data(logistic Regression)\n"
   ]
  },
  {
   "cell_type": "code",
   "execution_count": 44,
   "id": "e94206a3",
   "metadata": {},
   "outputs": [],
   "source": [
    "weight_clf = LogisticRegression(class_weight={0: 100, 1: 1000})"
   ]
  },
  {
   "cell_type": "code",
   "execution_count": 45,
   "id": "bb830395",
   "metadata": {},
   "outputs": [
    {
     "data": {
      "text/plain": [
       "LogisticRegression(class_weight={0: 100, 1: 1000})"
      ]
     },
     "execution_count": 45,
     "metadata": {},
     "output_type": "execute_result"
    }
   ],
   "source": [
    "weight_clf.fit(std.fit_transform(X_train),y_train)"
   ]
  },
  {
   "cell_type": "code",
   "execution_count": 46,
   "id": "781b8c33",
   "metadata": {},
   "outputs": [],
   "source": [
    "weight_clf_predicted = weight_clf.predict(std.fit_transform(X_test))"
   ]
  },
  {
   "cell_type": "code",
   "execution_count": 47,
   "id": "40a76b51",
   "metadata": {},
   "outputs": [
    {
     "name": "stdout",
     "output_type": "stream",
     "text": [
      "              precision    recall  f1-score   support\n",
      "\n",
      "           0       1.00      1.00      1.00     56864\n",
      "           1       0.78      0.81      0.79        98\n",
      "\n",
      "    accuracy                           1.00     56962\n",
      "   macro avg       0.89      0.90      0.90     56962\n",
      "weighted avg       1.00      1.00      1.00     56962\n",
      "\n"
     ]
    },
    {
     "data": {
      "text/plain": [
       "array([[56842,    22],\n",
       "       [   19,    79]], dtype=int64)"
      ]
     },
     "execution_count": 47,
     "metadata": {},
     "output_type": "execute_result"
    }
   ],
   "source": [
    "print(classification_report(y_test,weight_clf_predicted))\n",
    "confusion_matrix(y_test,weight_clf_predicted)"
   ]
  },
  {
   "cell_type": "markdown",
   "id": "357dd533",
   "metadata": {},
   "source": [
    "### ReSampling( UnderSampling)"
   ]
  },
  {
   "cell_type": "code",
   "execution_count": 48,
   "id": "99fc362d",
   "metadata": {},
   "outputs": [],
   "source": [
    "fraud2 = fraud.copy()"
   ]
  },
  {
   "cell_type": "code",
   "execution_count": 49,
   "id": "cfa4d79c",
   "metadata": {},
   "outputs": [],
   "source": [
    "legit_data = fraud2[fraud2['Class'] == 0]"
   ]
  },
  {
   "cell_type": "code",
   "execution_count": 50,
   "id": "42c7022a",
   "metadata": {},
   "outputs": [],
   "source": [
    "fraud_data = fraud2[fraud2['Class'] == 1]"
   ]
  },
  {
   "cell_type": "code",
   "execution_count": 51,
   "id": "21048934",
   "metadata": {},
   "outputs": [
    {
     "data": {
      "text/html": [
       "<div>\n",
       "<style scoped>\n",
       "    .dataframe tbody tr th:only-of-type {\n",
       "        vertical-align: middle;\n",
       "    }\n",
       "\n",
       "    .dataframe tbody tr th {\n",
       "        vertical-align: top;\n",
       "    }\n",
       "\n",
       "    .dataframe thead th {\n",
       "        text-align: right;\n",
       "    }\n",
       "</style>\n",
       "<table border=\"1\" class=\"dataframe\">\n",
       "  <thead>\n",
       "    <tr style=\"text-align: right;\">\n",
       "      <th></th>\n",
       "      <th>Time</th>\n",
       "      <th>V1</th>\n",
       "      <th>V2</th>\n",
       "      <th>V3</th>\n",
       "      <th>V4</th>\n",
       "      <th>V5</th>\n",
       "      <th>V6</th>\n",
       "      <th>V7</th>\n",
       "      <th>V8</th>\n",
       "      <th>V9</th>\n",
       "      <th>...</th>\n",
       "      <th>V21</th>\n",
       "      <th>V22</th>\n",
       "      <th>V23</th>\n",
       "      <th>V24</th>\n",
       "      <th>V25</th>\n",
       "      <th>V26</th>\n",
       "      <th>V27</th>\n",
       "      <th>V28</th>\n",
       "      <th>Amount</th>\n",
       "      <th>Class</th>\n",
       "    </tr>\n",
       "  </thead>\n",
       "  <tbody>\n",
       "    <tr>\n",
       "      <th>282777</th>\n",
       "      <td>171144.0</td>\n",
       "      <td>-2.199368</td>\n",
       "      <td>2.693484</td>\n",
       "      <td>-2.039843</td>\n",
       "      <td>-0.685230</td>\n",
       "      <td>0.695328</td>\n",
       "      <td>0.941400</td>\n",
       "      <td>-1.905576</td>\n",
       "      <td>-4.408650</td>\n",
       "      <td>-1.104221</td>\n",
       "      <td>...</td>\n",
       "      <td>-2.371465</td>\n",
       "      <td>1.232815</td>\n",
       "      <td>0.038334</td>\n",
       "      <td>-0.190379</td>\n",
       "      <td>-0.030305</td>\n",
       "      <td>-0.254498</td>\n",
       "      <td>0.068502</td>\n",
       "      <td>0.240003</td>\n",
       "      <td>1.00</td>\n",
       "      <td>0</td>\n",
       "    </tr>\n",
       "    <tr>\n",
       "      <th>262315</th>\n",
       "      <td>160415.0</td>\n",
       "      <td>-0.456800</td>\n",
       "      <td>1.049320</td>\n",
       "      <td>-0.198097</td>\n",
       "      <td>-0.570943</td>\n",
       "      <td>0.089982</td>\n",
       "      <td>-1.117379</td>\n",
       "      <td>0.603354</td>\n",
       "      <td>0.234103</td>\n",
       "      <td>-0.011204</td>\n",
       "      <td>...</td>\n",
       "      <td>-0.225241</td>\n",
       "      <td>-0.668818</td>\n",
       "      <td>0.186750</td>\n",
       "      <td>-0.141785</td>\n",
       "      <td>-0.467977</td>\n",
       "      <td>0.142451</td>\n",
       "      <td>-0.007858</td>\n",
       "      <td>0.020690</td>\n",
       "      <td>9.99</td>\n",
       "      <td>0</td>\n",
       "    </tr>\n",
       "    <tr>\n",
       "      <th>59189</th>\n",
       "      <td>48736.0</td>\n",
       "      <td>-0.888546</td>\n",
       "      <td>0.043805</td>\n",
       "      <td>0.644427</td>\n",
       "      <td>-2.537653</td>\n",
       "      <td>1.198245</td>\n",
       "      <td>4.037045</td>\n",
       "      <td>-1.346762</td>\n",
       "      <td>-0.001946</td>\n",
       "      <td>-0.250601</td>\n",
       "      <td>...</td>\n",
       "      <td>1.151767</td>\n",
       "      <td>0.845093</td>\n",
       "      <td>-0.096043</td>\n",
       "      <td>1.024580</td>\n",
       "      <td>0.070443</td>\n",
       "      <td>-0.116712</td>\n",
       "      <td>-0.302530</td>\n",
       "      <td>-0.140387</td>\n",
       "      <td>15.99</td>\n",
       "      <td>0</td>\n",
       "    </tr>\n",
       "    <tr>\n",
       "      <th>56954</th>\n",
       "      <td>47689.0</td>\n",
       "      <td>1.157922</td>\n",
       "      <td>0.404441</td>\n",
       "      <td>0.815571</td>\n",
       "      <td>2.308087</td>\n",
       "      <td>-0.245098</td>\n",
       "      <td>0.078953</td>\n",
       "      <td>-0.248887</td>\n",
       "      <td>0.184637</td>\n",
       "      <td>-0.659140</td>\n",
       "      <td>...</td>\n",
       "      <td>-0.080439</td>\n",
       "      <td>-0.361590</td>\n",
       "      <td>0.036242</td>\n",
       "      <td>-0.050721</td>\n",
       "      <td>0.277350</td>\n",
       "      <td>-0.123327</td>\n",
       "      <td>-0.006422</td>\n",
       "      <td>0.014145</td>\n",
       "      <td>0.77</td>\n",
       "      <td>0</td>\n",
       "    </tr>\n",
       "    <tr>\n",
       "      <th>63542</th>\n",
       "      <td>50765.0</td>\n",
       "      <td>1.190661</td>\n",
       "      <td>0.244598</td>\n",
       "      <td>0.511052</td>\n",
       "      <td>0.658084</td>\n",
       "      <td>-0.344661</td>\n",
       "      <td>-0.737170</td>\n",
       "      <td>0.103264</td>\n",
       "      <td>-0.147184</td>\n",
       "      <td>-0.094441</td>\n",
       "      <td>...</td>\n",
       "      <td>-0.144392</td>\n",
       "      <td>-0.353657</td>\n",
       "      <td>0.138841</td>\n",
       "      <td>0.422725</td>\n",
       "      <td>0.220078</td>\n",
       "      <td>0.180393</td>\n",
       "      <td>-0.015322</td>\n",
       "      <td>0.017251</td>\n",
       "      <td>7.45</td>\n",
       "      <td>0</td>\n",
       "    </tr>\n",
       "    <tr>\n",
       "      <th>...</th>\n",
       "      <td>...</td>\n",
       "      <td>...</td>\n",
       "      <td>...</td>\n",
       "      <td>...</td>\n",
       "      <td>...</td>\n",
       "      <td>...</td>\n",
       "      <td>...</td>\n",
       "      <td>...</td>\n",
       "      <td>...</td>\n",
       "      <td>...</td>\n",
       "      <td>...</td>\n",
       "      <td>...</td>\n",
       "      <td>...</td>\n",
       "      <td>...</td>\n",
       "      <td>...</td>\n",
       "      <td>...</td>\n",
       "      <td>...</td>\n",
       "      <td>...</td>\n",
       "      <td>...</td>\n",
       "      <td>...</td>\n",
       "      <td>...</td>\n",
       "    </tr>\n",
       "    <tr>\n",
       "      <th>65142</th>\n",
       "      <td>51448.0</td>\n",
       "      <td>1.191809</td>\n",
       "      <td>-0.221339</td>\n",
       "      <td>0.924993</td>\n",
       "      <td>0.555193</td>\n",
       "      <td>-0.613413</td>\n",
       "      <td>0.494374</td>\n",
       "      <td>-0.722913</td>\n",
       "      <td>0.255736</td>\n",
       "      <td>0.687216</td>\n",
       "      <td>...</td>\n",
       "      <td>-0.089691</td>\n",
       "      <td>-0.088442</td>\n",
       "      <td>-0.089124</td>\n",
       "      <td>-0.453703</td>\n",
       "      <td>0.342427</td>\n",
       "      <td>0.349658</td>\n",
       "      <td>0.013335</td>\n",
       "      <td>0.009667</td>\n",
       "      <td>11.50</td>\n",
       "      <td>0</td>\n",
       "    </tr>\n",
       "    <tr>\n",
       "      <th>197066</th>\n",
       "      <td>131828.0</td>\n",
       "      <td>2.022819</td>\n",
       "      <td>-0.157414</td>\n",
       "      <td>-1.994964</td>\n",
       "      <td>0.370571</td>\n",
       "      <td>0.241834</td>\n",
       "      <td>-1.544565</td>\n",
       "      <td>0.684381</td>\n",
       "      <td>-0.494244</td>\n",
       "      <td>0.326715</td>\n",
       "      <td>...</td>\n",
       "      <td>0.117390</td>\n",
       "      <td>0.399966</td>\n",
       "      <td>-0.048321</td>\n",
       "      <td>0.052378</td>\n",
       "      <td>0.285879</td>\n",
       "      <td>0.828929</td>\n",
       "      <td>-0.134151</td>\n",
       "      <td>-0.081249</td>\n",
       "      <td>49.46</td>\n",
       "      <td>0</td>\n",
       "    </tr>\n",
       "    <tr>\n",
       "      <th>127293</th>\n",
       "      <td>78282.0</td>\n",
       "      <td>-1.027738</td>\n",
       "      <td>1.359117</td>\n",
       "      <td>1.109873</td>\n",
       "      <td>-0.168605</td>\n",
       "      <td>0.021295</td>\n",
       "      <td>-0.372831</td>\n",
       "      <td>0.429890</td>\n",
       "      <td>0.233445</td>\n",
       "      <td>-0.092443</td>\n",
       "      <td>...</td>\n",
       "      <td>-0.224261</td>\n",
       "      <td>-0.539637</td>\n",
       "      <td>0.066631</td>\n",
       "      <td>0.141447</td>\n",
       "      <td>-0.227231</td>\n",
       "      <td>0.070567</td>\n",
       "      <td>0.322625</td>\n",
       "      <td>0.219446</td>\n",
       "      <td>1.98</td>\n",
       "      <td>0</td>\n",
       "    </tr>\n",
       "    <tr>\n",
       "      <th>166124</th>\n",
       "      <td>117878.0</td>\n",
       "      <td>-0.820789</td>\n",
       "      <td>0.098478</td>\n",
       "      <td>1.330601</td>\n",
       "      <td>-0.955932</td>\n",
       "      <td>0.479447</td>\n",
       "      <td>-0.205034</td>\n",
       "      <td>0.889336</td>\n",
       "      <td>-0.296878</td>\n",
       "      <td>0.496270</td>\n",
       "      <td>...</td>\n",
       "      <td>-0.298154</td>\n",
       "      <td>-0.364224</td>\n",
       "      <td>0.116018</td>\n",
       "      <td>-0.341267</td>\n",
       "      <td>-0.825382</td>\n",
       "      <td>0.121281</td>\n",
       "      <td>0.144232</td>\n",
       "      <td>-0.077419</td>\n",
       "      <td>89.56</td>\n",
       "      <td>0</td>\n",
       "    </tr>\n",
       "    <tr>\n",
       "      <th>86885</th>\n",
       "      <td>61437.0</td>\n",
       "      <td>1.459989</td>\n",
       "      <td>-0.484334</td>\n",
       "      <td>-0.142208</td>\n",
       "      <td>-0.764606</td>\n",
       "      <td>-0.639839</td>\n",
       "      <td>-0.675739</td>\n",
       "      <td>-0.374087</td>\n",
       "      <td>-0.199435</td>\n",
       "      <td>-0.783410</td>\n",
       "      <td>...</td>\n",
       "      <td>-0.448395</td>\n",
       "      <td>-0.834837</td>\n",
       "      <td>-0.052656</td>\n",
       "      <td>-0.430157</td>\n",
       "      <td>0.365561</td>\n",
       "      <td>1.093992</td>\n",
       "      <td>-0.071269</td>\n",
       "      <td>-0.004725</td>\n",
       "      <td>10.14</td>\n",
       "      <td>0</td>\n",
       "    </tr>\n",
       "  </tbody>\n",
       "</table>\n",
       "<p>500 rows × 31 columns</p>\n",
       "</div>"
      ],
      "text/plain": [
       "            Time        V1        V2        V3        V4        V5        V6  \\\n",
       "282777  171144.0 -2.199368  2.693484 -2.039843 -0.685230  0.695328  0.941400   \n",
       "262315  160415.0 -0.456800  1.049320 -0.198097 -0.570943  0.089982 -1.117379   \n",
       "59189    48736.0 -0.888546  0.043805  0.644427 -2.537653  1.198245  4.037045   \n",
       "56954    47689.0  1.157922  0.404441  0.815571  2.308087 -0.245098  0.078953   \n",
       "63542    50765.0  1.190661  0.244598  0.511052  0.658084 -0.344661 -0.737170   \n",
       "...          ...       ...       ...       ...       ...       ...       ...   \n",
       "65142    51448.0  1.191809 -0.221339  0.924993  0.555193 -0.613413  0.494374   \n",
       "197066  131828.0  2.022819 -0.157414 -1.994964  0.370571  0.241834 -1.544565   \n",
       "127293   78282.0 -1.027738  1.359117  1.109873 -0.168605  0.021295 -0.372831   \n",
       "166124  117878.0 -0.820789  0.098478  1.330601 -0.955932  0.479447 -0.205034   \n",
       "86885    61437.0  1.459989 -0.484334 -0.142208 -0.764606 -0.639839 -0.675739   \n",
       "\n",
       "              V7        V8        V9  ...       V21       V22       V23  \\\n",
       "282777 -1.905576 -4.408650 -1.104221  ... -2.371465  1.232815  0.038334   \n",
       "262315  0.603354  0.234103 -0.011204  ... -0.225241 -0.668818  0.186750   \n",
       "59189  -1.346762 -0.001946 -0.250601  ...  1.151767  0.845093 -0.096043   \n",
       "56954  -0.248887  0.184637 -0.659140  ... -0.080439 -0.361590  0.036242   \n",
       "63542   0.103264 -0.147184 -0.094441  ... -0.144392 -0.353657  0.138841   \n",
       "...          ...       ...       ...  ...       ...       ...       ...   \n",
       "65142  -0.722913  0.255736  0.687216  ... -0.089691 -0.088442 -0.089124   \n",
       "197066  0.684381 -0.494244  0.326715  ...  0.117390  0.399966 -0.048321   \n",
       "127293  0.429890  0.233445 -0.092443  ... -0.224261 -0.539637  0.066631   \n",
       "166124  0.889336 -0.296878  0.496270  ... -0.298154 -0.364224  0.116018   \n",
       "86885  -0.374087 -0.199435 -0.783410  ... -0.448395 -0.834837 -0.052656   \n",
       "\n",
       "             V24       V25       V26       V27       V28  Amount  Class  \n",
       "282777 -0.190379 -0.030305 -0.254498  0.068502  0.240003    1.00      0  \n",
       "262315 -0.141785 -0.467977  0.142451 -0.007858  0.020690    9.99      0  \n",
       "59189   1.024580  0.070443 -0.116712 -0.302530 -0.140387   15.99      0  \n",
       "56954  -0.050721  0.277350 -0.123327 -0.006422  0.014145    0.77      0  \n",
       "63542   0.422725  0.220078  0.180393 -0.015322  0.017251    7.45      0  \n",
       "...          ...       ...       ...       ...       ...     ...    ...  \n",
       "65142  -0.453703  0.342427  0.349658  0.013335  0.009667   11.50      0  \n",
       "197066  0.052378  0.285879  0.828929 -0.134151 -0.081249   49.46      0  \n",
       "127293  0.141447 -0.227231  0.070567  0.322625  0.219446    1.98      0  \n",
       "166124 -0.341267 -0.825382  0.121281  0.144232 -0.077419   89.56      0  \n",
       "86885  -0.430157  0.365561  1.093992 -0.071269 -0.004725   10.14      0  \n",
       "\n",
       "[500 rows x 31 columns]"
      ]
     },
     "execution_count": 51,
     "metadata": {},
     "output_type": "execute_result"
    }
   ],
   "source": [
    "## we havelarge data for 0 class so we can undersample class 0 data\n",
    "legit_data.sample(500)"
   ]
  },
  {
   "cell_type": "code",
   "execution_count": 52,
   "id": "3398cedc",
   "metadata": {
    "scrolled": true
   },
   "outputs": [],
   "source": [
    "sampled_data = pd.concat([fraud_data,legit_data.sample(500)])"
   ]
  },
  {
   "cell_type": "code",
   "execution_count": 53,
   "id": "cc6cc1f0",
   "metadata": {},
   "outputs": [],
   "source": [
    "X2 = sampled_data[sampled_data.columns[:-1]]\n",
    "y2 = sampled_data['Class']"
   ]
  },
  {
   "cell_type": "code",
   "execution_count": 54,
   "id": "f36f698a",
   "metadata": {},
   "outputs": [],
   "source": [
    " X_train2, X_test2, y_train2, y_test2 = train_test_split(X2, y2, test_size=0.33, random_state=42)"
   ]
  },
  {
   "cell_type": "code",
   "execution_count": 55,
   "id": "d81b576f",
   "metadata": {},
   "outputs": [],
   "source": [
    "lr = LogisticRegression()"
   ]
  },
  {
   "cell_type": "code",
   "execution_count": 56,
   "id": "1e287685",
   "metadata": {},
   "outputs": [
    {
     "data": {
      "text/plain": [
       "LogisticRegression()"
      ]
     },
     "execution_count": 56,
     "metadata": {},
     "output_type": "execute_result"
    }
   ],
   "source": [
    "lr.fit(std.fit_transform(X_train2),y_train2)"
   ]
  },
  {
   "cell_type": "code",
   "execution_count": 57,
   "id": "38429d09",
   "metadata": {},
   "outputs": [],
   "source": [
    "lr_predicted = lr.predict(std.fit_transform(X_test2))"
   ]
  },
  {
   "cell_type": "code",
   "execution_count": 58,
   "id": "f8c177d9",
   "metadata": {},
   "outputs": [
    {
     "data": {
      "text/plain": [
       "array([[164,   3],\n",
       "       [ 14, 147]], dtype=int64)"
      ]
     },
     "execution_count": 58,
     "metadata": {},
     "output_type": "execute_result"
    }
   ],
   "source": [
    "confusion_matrix(y_test2,lr_predicted)"
   ]
  },
  {
   "cell_type": "code",
   "execution_count": 59,
   "id": "df558f48",
   "metadata": {
    "scrolled": false
   },
   "outputs": [
    {
     "name": "stdout",
     "output_type": "stream",
     "text": [
      "              precision    recall  f1-score   support\n",
      "\n",
      "           0       0.92      0.98      0.95       167\n",
      "           1       0.98      0.91      0.95       161\n",
      "\n",
      "    accuracy                           0.95       328\n",
      "   macro avg       0.95      0.95      0.95       328\n",
      "weighted avg       0.95      0.95      0.95       328\n",
      "\n"
     ]
    }
   ],
   "source": [
    "print(classification_report(y_test2,lr_predicted))\n",
    "#it Gives good results but we lost many information by undersampling"
   ]
  },
  {
   "cell_type": "markdown",
   "id": "8113f113",
   "metadata": {},
   "source": [
    "### SMOTE (Synthetic Minority OverSampling Technique)"
   ]
  },
  {
   "cell_type": "code",
   "execution_count": 60,
   "id": "26172e0f",
   "metadata": {},
   "outputs": [
    {
     "data": {
      "image/png": "[encoded data removed]",
      "text/plain": [
       "<Figure size 936x360 with 1 Axes>"
      ]
     },
     "metadata": {
      "needs_background": "light"
     },
     "output_type": "display_data"
    }
   ],
   "source": [
    "plt.figure(figsize=(13,5))\n",
    "plt.scatter(x = fraud[fraud['Class'] == 0]['V1'],y = fraud[fraud['Class'] == 0]['V2'],marker = '*',color = 'r',\n",
    "           )\n",
    "\n",
    "plt.scatter(x = fraud[fraud['Class'] == 1]['V1'],y = fraud[fraud['Class'] == 1]['V2'],marker = 'o',color = 'blue',\n",
    "           )\n",
    "plt.legend(labels = {\"Majority-Class\",\"Minority-Class\"})\n",
    "plt.title(\"Minorities and Majorities in Dataset\")\n",
    "plt.show()"
   ]
  },
  {
   "cell_type": "code",
   "execution_count": 61,
   "id": "9b7131ca",
   "metadata": {},
   "outputs": [],
   "source": [
    "import imblearn as ib"
   ]
  },
  {
   "cell_type": "code",
   "execution_count": 62,
   "id": "3774a9f7",
   "metadata": {},
   "outputs": [],
   "source": [
    "smote = ib.over_sampling.SMOTE()"
   ]
  },
  {
   "cell_type": "code",
   "execution_count": 63,
   "id": "a3f251df",
   "metadata": {},
   "outputs": [],
   "source": [
    "train_data = X_train.copy()"
   ]
  },
  {
   "cell_type": "code",
   "execution_count": 64,
   "id": "5cc8c135",
   "metadata": {},
   "outputs": [],
   "source": [
    "train_data['Class'] = y_train"
   ]
  },
  {
   "cell_type": "code",
   "execution_count": 65,
   "id": "31f5cb52",
   "metadata": {},
   "outputs": [
    {
     "data": {
      "image/png": "[encoded data removed]",
      "text/plain": [
       "<Figure size 936x360 with 1 Axes>"
      ]
     },
     "metadata": {
      "needs_background": "light"
     },
     "output_type": "display_data"
    }
   ],
   "source": [
    "plt.figure(figsize=(13,5))\n",
    "plt.scatter(x = train_data[train_data['Class'] == 0]['V1'],y = train_data[train_data['Class'] == 0]['V2'],\n",
    "            marker = '*',color = 'r',\n",
    "           )\n",
    "\n",
    "plt.scatter(x = train_data[train_data['Class'] == 1]['V1'],y = train_data[train_data['Class'] == 1]['V2'],\n",
    "            marker = 'o',color = 'blue',alpha=0.5,\n",
    "           )\n",
    "plt.legend(labels = {\"Majority-Class\",\"Minority-Class\"})\n",
    "plt.title(\"Minority and Majority in Train Data\")\n",
    "plt.show()"
   ]
  },
  {
   "cell_type": "code",
   "execution_count": 66,
   "id": "11014329",
   "metadata": {},
   "outputs": [],
   "source": [
    "resampled_X_train,resampled_y_train = smote.fit_resample(X = X_train,y = y_train)"
   ]
  },
  {
   "cell_type": "code",
   "execution_count": 67,
   "id": "d72c37c1",
   "metadata": {},
   "outputs": [],
   "source": [
    "resampled_train_data = resampled_X_train.copy()"
   ]
  },
  {
   "cell_type": "code",
   "execution_count": 68,
   "id": "bc5b615a",
   "metadata": {},
   "outputs": [],
   "source": [
    "resampled_train_data['Class'] = resampled_y_train\n",
    "# here we can see clearly data points are increased \n",
    "#but more points are coincides each other"
   ]
  },
  {
   "cell_type": "code",
   "execution_count": 69,
   "id": "4e834b69",
   "metadata": {},
   "outputs": [
    {
     "data": {
      "image/png": "[encoded data removed]",
      "text/plain": [
       "<Figure size 936x360 with 1 Axes>"
      ]
     },
     "metadata": {
      "needs_background": "light"
     },
     "output_type": "display_data"
    }
   ],
   "source": [
    "plt.figure(figsize=(13,5))\n",
    "plt.scatter(x = resampled_train_data[resampled_train_data['Class'] == 0]['V1'],\n",
    "            y = resampled_train_data[resampled_train_data['Class'] == 0]['V2'],\n",
    "            marker = '*',color = 'r',\n",
    "           )\n",
    "\n",
    "plt.scatter(x = resampled_train_data[resampled_train_data['Class'] == 1]['V1'],\n",
    "            y = resampled_train_data[resampled_train_data['Class'] == 1]['V2'],\n",
    "            marker = 'o',color = 'blue',\n",
    "           )\n",
    "plt.legend(labels = {\"Majority-Class\",\"Minority-Class\"})\n",
    "plt.title(\"Minority and Majority in oversampled_train_data\")\n",
    "plt.show()"
   ]
  },
  {
   "cell_type": "code",
   "execution_count": 70,
   "id": "de5685da",
   "metadata": {
    "scrolled": false
   },
   "outputs": [
    {
     "data": {
      "text/plain": [
       "0    227451\n",
       "1    227451\n",
       "Name: Class, dtype: int64"
      ]
     },
     "execution_count": 70,
     "metadata": {},
     "output_type": "execute_result"
    }
   ],
   "source": [
    "resampled_y_train.value_counts()"
   ]
  },
  {
   "cell_type": "markdown",
   "id": "2fa1acee",
   "metadata": {},
   "source": [
    "## OverSampled LogisticRegression\n"
   ]
  },
  {
   "cell_type": "code",
   "execution_count": 71,
   "id": "7de42a37",
   "metadata": {},
   "outputs": [],
   "source": [
    "log_resampled = LogisticRegression()"
   ]
  },
  {
   "cell_type": "code",
   "execution_count": 72,
   "id": "595209c0",
   "metadata": {},
   "outputs": [
    {
     "name": "stderr",
     "output_type": "stream",
     "text": [
      "C:\\PYTHON\\anaconda3\\lib\\site-packages\\sklearn\\linear_model\\_logistic.py:763: ConvergenceWarning: lbfgs failed to converge (status=1):\n",
      "STOP: TOTAL NO. of ITERATIONS REACHED LIMIT.\n",
      "\n",
      "Increase the number of iterations (max_iter) or scale the data as shown in:\n",
      "    https://scikit-learn.org/stable/modules/preprocessing.html\n",
      "Please also refer to the documentation for alternative solver options:\n",
      "    https://scikit-learn.org/stable/modules/linear_model.html#logistic-regression\n",
      "  n_iter_i = _check_optimize_result(\n"
     ]
    },
    {
     "data": {
      "text/plain": [
       "LogisticRegression()"
      ]
     },
     "execution_count": 72,
     "metadata": {},
     "output_type": "execute_result"
    }
   ],
   "source": [
    "log_resampled.fit(resampled_X_train,resampled_y_train)"
   ]
  },
  {
   "cell_type": "code",
   "execution_count": 73,
   "id": "396ccc7d",
   "metadata": {},
   "outputs": [],
   "source": [
    "log_resampled_predicted = log_resampled.predict(X_test)"
   ]
  },
  {
   "cell_type": "code",
   "execution_count": 74,
   "id": "05b2ade2",
   "metadata": {},
   "outputs": [],
   "source": [
    "import metrics"
   ]
  },
  {
   "cell_type": "code",
   "execution_count": 75,
   "id": "6ac6e6ae",
   "metadata": {
    "scrolled": true
   },
   "outputs": [
    {
     "name": "stdout",
     "output_type": "stream",
     "text": [
      "confusion_matrix :  [[55787  1077]\n",
      " [   11    87]]\n",
      "\n",
      "\n",
      "fbeta_score :  0.13787638668779714\n",
      "\n",
      "\n",
      "recall_score :  0.8877551020408163\n",
      "\n",
      "\n",
      "classification_report : \n",
      "              precision    recall  f1-score   support\n",
      "\n",
      "           0       1.00      0.98      0.99     56864\n",
      "           1       0.07      0.89      0.14        98\n",
      "\n",
      "    accuracy                           0.98     56962\n",
      "   macro avg       0.54      0.93      0.56     56962\n",
      "weighted avg       1.00      0.98      0.99     56962\n",
      "\n",
      "\n",
      "\n",
      "accuracy_score :  0.9808995470664653\n",
      "\n",
      "\n"
     ]
    }
   ],
   "source": [
    "metrics.clf_metrics(y_test,log_resampled_predicted)#roc_auc is good but f1 is bad\n",
    "#Precision values is very low bcz False Negative( wrongly predicted as zero (or) not fraud) \n",
    "# Since in this case Positive values (frauds) are important \n",
    "# so recall value is important"
   ]
  },
  {
   "cell_type": "markdown",
   "id": "a7485f48",
   "metadata": {},
   "source": [
    "## Borderline SMOTE and Logistic Regression"
   ]
  },
  {
   "cell_type": "code",
   "execution_count": 76,
   "id": "48fdc5c8",
   "metadata": {},
   "outputs": [],
   "source": [
    "from imblearn.over_sampling import BorderlineSMOTE"
   ]
  },
  {
   "cell_type": "code",
   "execution_count": 77,
   "id": "1d6a7af4",
   "metadata": {},
   "outputs": [],
   "source": [
    "bsmote = BorderlineSMOTE()"
   ]
  },
  {
   "cell_type": "code",
   "execution_count": 78,
   "id": "6410ea58",
   "metadata": {},
   "outputs": [],
   "source": [
    "bor_X_train,bor_y_train = bsmote.fit_resample(X_train,y_train)"
   ]
  },
  {
   "cell_type": "code",
   "execution_count": 79,
   "id": "5503de46",
   "metadata": {},
   "outputs": [],
   "source": [
    "bor_data = bor_X_train.copy()"
   ]
  },
  {
   "cell_type": "code",
   "execution_count": 80,
   "id": "af159033",
   "metadata": {},
   "outputs": [],
   "source": [
    "bor_data['Class'] = bor_y_train"
   ]
  },
  {
   "cell_type": "code",
   "execution_count": 81,
   "id": "d932f5d6",
   "metadata": {
    "scrolled": false
   },
   "outputs": [
    {
     "data": {
      "image/png": "[encoded data removed]",
      "text/plain": [
       "<Figure size 936x360 with 1 Axes>"
      ]
     },
     "metadata": {
      "needs_background": "light"
     },
     "output_type": "display_data"
    }
   ],
   "source": [
    "plt.figure(figsize=(13,5))\n",
    "plt.scatter(x = bor_data[bor_data['Class'] == 0]['V1'],\n",
    "            y = bor_data[bor_data['Class'] == 0]['V2'],\n",
    "            marker = '*',color = 'r',\n",
    "           )\n",
    "\n",
    "plt.scatter(x = bor_data[bor_data['Class'] == 1]['V1'],\n",
    "            y = bor_data[bor_data['Class'] == 1]['V2'],\n",
    "            marker = 'o',color = 'blue',\n",
    "           )\n",
    "plt.legend(labels = {\"Majority-Class\",\"Minority-Class\"})\n",
    "plt.title(\"Minority and Majority in oversampled_train_data\")\n",
    "plt.show()"
   ]
  },
  {
   "cell_type": "code",
   "execution_count": 82,
   "id": "9cc34d4c",
   "metadata": {},
   "outputs": [],
   "source": [
    "bor_log = LogisticRegression()"
   ]
  },
  {
   "cell_type": "code",
   "execution_count": 83,
   "id": "dba0cb48",
   "metadata": {},
   "outputs": [
    {
     "name": "stderr",
     "output_type": "stream",
     "text": [
      "C:\\PYTHON\\anaconda3\\lib\\site-packages\\sklearn\\linear_model\\_logistic.py:763: ConvergenceWarning: lbfgs failed to converge (status=1):\n",
      "STOP: TOTAL NO. of ITERATIONS REACHED LIMIT.\n",
      "\n",
      "Increase the number of iterations (max_iter) or scale the data as shown in:\n",
      "    https://scikit-learn.org/stable/modules/preprocessing.html\n",
      "Please also refer to the documentation for alternative solver options:\n",
      "    https://scikit-learn.org/stable/modules/linear_model.html#logistic-regression\n",
      "  n_iter_i = _check_optimize_result(\n"
     ]
    },
    {
     "data": {
      "text/plain": [
       "LogisticRegression()"
      ]
     },
     "execution_count": 83,
     "metadata": {},
     "output_type": "execute_result"
    }
   ],
   "source": [
    "bor_log.fit(bor_X_train,bor_y_train)"
   ]
  },
  {
   "cell_type": "code",
   "execution_count": 84,
   "id": "41994cf4",
   "metadata": {},
   "outputs": [],
   "source": [
    "bor_predicted = bor_log.predict(X_test)"
   ]
  },
  {
   "cell_type": "code",
   "execution_count": 85,
   "id": "a7d45757",
   "metadata": {
    "scrolled": true
   },
   "outputs": [
    {
     "name": "stdout",
     "output_type": "stream",
     "text": [
      "confusion_matrix :  [[56184   680]\n",
      " [   11    87]]\n",
      "\n",
      "\n",
      "fbeta_score :  0.20115606936416183\n",
      "\n",
      "\n",
      "recall_score :  0.8877551020408163\n",
      "\n",
      "\n",
      "classification_report : \n",
      "              precision    recall  f1-score   support\n",
      "\n",
      "           0       1.00      0.99      0.99     56864\n",
      "           1       0.11      0.89      0.20        98\n",
      "\n",
      "    accuracy                           0.99     56962\n",
      "   macro avg       0.56      0.94      0.60     56962\n",
      "weighted avg       1.00      0.99      0.99     56962\n",
      "\n",
      "\n",
      "\n",
      "accuracy_score :  0.9878691057196025\n",
      "\n",
      "\n"
     ]
    }
   ],
   "source": [
    "metrics.clf_metrics(y_test,bor_predicted,f_beta=1)"
   ]
  },
  {
   "cell_type": "code",
   "execution_count": 86,
   "id": "e302ab9f",
   "metadata": {},
   "outputs": [],
   "source": [
    "plot_test = X_test.copy()"
   ]
  },
  {
   "cell_type": "code",
   "execution_count": 87,
   "id": "1b5cd495",
   "metadata": {},
   "outputs": [],
   "source": [
    "plot_test['Class'] = y_test"
   ]
  },
  {
   "cell_type": "code",
   "execution_count": 88,
   "id": "d8856cb6",
   "metadata": {},
   "outputs": [],
   "source": [
    "plot_test['Predicted_Class_log1'] = clf_predicted"
   ]
  },
  {
   "cell_type": "code",
   "execution_count": 89,
   "id": "8723225c",
   "metadata": {},
   "outputs": [],
   "source": [
    "plot_test['Predicted_Class_log'] = bor_predicted"
   ]
  },
  {
   "cell_type": "code",
   "execution_count": 91,
   "id": "8c0da4c5",
   "metadata": {
    "scrolled": true
   },
   "outputs": [
    {
     "data": {
      "image/png": "[encoded data removed]",
      "text/plain": [
       "<Figure size 1080x360 with 2 Axes>"
      ]
     },
     "metadata": {
      "needs_background": "light"
     },
     "output_type": "display_data"
    }
   ],
   "source": [
    "fig,ax = plt.subplots(figsize = (15,5),nrows=1,ncols = 2)\n",
    "\n",
    "ax[0].scatter(x = plot_test[plot_test['Predicted_Class_log1'] == 0]['Time'],\n",
    "              y = plot_test[plot_test['Predicted_Class_log1'] == 0]['Amount'],label = 'legit')\n",
    "ax[0].scatter(x = plot_test[plot_test['Predicted_Class_log1'] == 1]['Time'],\n",
    "              y = plot_test[plot_test['Predicted_Class_log1'] == 1]['Amount'],label = 'Fraud')\n",
    "\n",
    "ax[0].set_xlabel(\"Time\")\n",
    "ax[0].set_ylabel(\"Amount\")\n",
    "\n",
    "ax[0].set_title(\"Predicted Values(Before SMOTE)\")\n",
    "ax[0].legend()\n",
    "\n",
    "ax[1].scatter(x = plot_test[plot_test['Predicted_Class_log'] == 0]['Time'],\n",
    "              y = plot_test[plot_test['Predicted_Class_log'] == 0]['Amount'],label = 'legit')\n",
    "ax[1].scatter(x = plot_test[plot_test['Predicted_Class_log'] == 1]['Time'],\n",
    "              y = plot_test[plot_test['Predicted_Class_log'] == 1]['Amount'],label = 'Fraud')\n",
    "\n",
    "ax[1].set_xlabel(\"Time\")\n",
    "ax[1].set_ylabel(\"Amount\")\n",
    "\n",
    "ax[1].set_title(\"Predicted Values(After SMOTE)\")\n",
    "ax[1].legend()\n",
    "\n",
    "plt.suptitle(\"LOGISTIC REGRESSION_Prediction\", fontsize=14)\n",
    "plt.tight_layout()"
   ]
  },
  {
   "cell_type": "markdown",
   "id": "dffd72ff",
   "metadata": {},
   "source": [
    "* Smote gives good result by comparing before smote in logistic regresion\n",
    "* but it is increased the False Positives\n",
    "* Its fine because in this case we need to care about False Negatives\n",
    "* because if False positives are high it can be identified as legit by further investigation but False Negatives(fraud predicted as legit) are high model is bad"
   ]
  },
  {
   "cell_type": "code",
   "execution_count": null,
   "id": "ee45968b",
   "metadata": {},
   "outputs": [],
   "source": []
  }
 ],
 "metadata": {
  "kernelspec": {
   "display_name": "Python 3",
   "language": "python",
   "name": "python3"
  },
  "language_info": {
   "codemirror_mode": {
    "name": "ipython",
    "version": 3
   },
   "file_extension": ".py",
   "mimetype": "text/x-python",
   "name": "python",
   "nbconvert_exporter": "python",
   "pygments_lexer": "ipython3",
   "version": "3.8.8"
  }
 },
 "nbformat": 4,
 "nbformat_minor": 5
}
